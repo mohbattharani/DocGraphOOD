{
 "cells": [
  {
   "cell_type": "code",
   "execution_count": 1,
   "id": "2f419a46-d211-44da-a3e3-f2da2bbfd519",
   "metadata": {},
   "outputs": [],
   "source": [
    "import sys\n",
    "sys.path.append(\"..\")\n",
    "import torch\n",
    "from transformers import HfArgumentParser\n",
    "import numpy as np\n",
    "\n",
    "from lib.arguments import DataTrainingArguments, ModelArguments, TrainArguments\n",
    "from lib.datasets.rvlcdip import RVLCDIPGraphClassification\n",
    "\n",
    "from lib.datasets import selector as ds  \n",
    "from lib.datasets import data_collator as dc\n",
    "import lib.models.selector as ms\n",
    "import lib.datasets.data_utils as du\n",
    "\n",
    "from lib.datasets.tokenizer import GraphLayout_Tokenizer\n",
    "from lib.models.modeling import MODEL\n",
    "\n",
    "device = \"cuda\""
   ]
  },
  {
   "cell_type": "code",
   "execution_count": 2,
   "id": "128824ed-13c4-4078-9883-cbfa85299624",
   "metadata": {},
   "outputs": [
    {
     "name": "stdout",
     "output_type": "stream",
     "text": [
      "Number of test samples: 40000\n",
      "Total processed files: 38534\n",
      "The lenght of test is: 38534\n"
     ]
    }
   ],
   "source": [
    "config = \"../config/rvlcdip/rvlcdip.json\"\n",
    "mode = 'test'\n",
    "\n",
    "parser = HfArgumentParser((ModelArguments, DataTrainingArguments, TrainArguments))\n",
    "model_args, data_args, training_args = parser.parse_json_file(config)\n",
    "tokenizer = GraphLayout_Tokenizer (data_args)\n",
    "collator = dc.Collater(None, None)\n",
    "\n",
    "test_dataset = RVLCDIPGraphClassification (data_args, mode=mode, tokenizer= tokenizer, start=0, end = 100, preprocess_flag= False)\n",
    "loader = dc.DataLoader(test_dataset, batch_size=1, shuffle=False, collate_fn = collator, num_workers = 1)   "
   ]
  },
  {
   "cell_type": "code",
   "execution_count": 5,
   "id": "67316d25-9c40-43eb-8429-ac9d4bfb2ab8",
   "metadata": {},
   "outputs": [],
   "source": [
    "pretrained_model_path = \"../ckpt/last.ckpt\"\n",
    "\n",
    "model = MODEL (model_args, data_args, training_args,  use_metric = True)\n",
    "model_dict = torch.load(pretrained_model_path)['state_dict']\n",
    "model.load_state_dict(model_dict, strict=False)\n",
    "model = model.model.eval()\n",
    "model = model.to (device)"
   ]
  },
  {
   "cell_type": "code",
   "execution_count": 6,
   "id": "29871982-91a2-4f93-8cd0-ea19f725b9ac",
   "metadata": {},
   "outputs": [
    {
     "name": "stderr",
     "output_type": "stream",
     "text": [
      "/home/mohbaf/anaconda3/envs/pyg/lib/python3.7/site-packages/transformers/modeling_utils.py:811: FutureWarning: The `device` argument is deprecated and will be removed in v5 of Transformers.\n",
      "  \"The `device` argument is deprecated and will be removed in v5 of Transformers.\", FutureWarning\n"
     ]
    }
   ],
   "source": [
    "for batch in (loader):\n",
    "    batch.to(device)\n",
    "    output = model (batch)\n",
    "    break"
   ]
  },
  {
   "cell_type": "code",
   "execution_count": null,
   "id": "801955b2-92e6-4ad6-8e6d-3e65ef5ce7f2",
   "metadata": {},
   "outputs": [],
   "source": []
  },
  {
   "cell_type": "code",
   "execution_count": null,
   "id": "f3e9f28a-2ae2-4c11-a327-4a09781b23c6",
   "metadata": {},
   "outputs": [],
   "source": []
  }
 ],
 "metadata": {
  "kernelspec": {
   "display_name": "Python 3 (ipykernel)",
   "language": "python",
   "name": "python3"
  },
  "language_info": {
   "codemirror_mode": {
    "name": "ipython",
    "version": 3
   },
   "file_extension": ".py",
   "mimetype": "text/x-python",
   "name": "python",
   "nbconvert_exporter": "python",
   "pygments_lexer": "ipython3",
   "version": "3.7.0"
  }
 },
 "nbformat": 4,
 "nbformat_minor": 5
}
